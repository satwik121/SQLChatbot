{
 "cells": [
  {
   "cell_type": "code",
   "execution_count": null,
   "metadata": {},
   "outputs": [],
   "source": [
    "import pandas as pd\n",
    "import numpy as np\n",
    "\n",
    "# Create a DataFrame with random values\n",
    "data = {\n",
    "    'user_id': np.random.randint(1000, 2000, size=10),\n",
    "    'product_id': np.random.randint(1, 100, size=10),\n",
    "    'product_name': ['Product_' + str(i) for i in range(1, 11)],\n",
    "    'brand': ['Brand_' + str(i) for i in range(1, 11)],\n",
    "    'category': ['Category_' + str(i) for i in range(1, 11)],\n",
    "    'price': np.random.uniform(10, 100, size=10),\n",
    "    'color': ['Color_' + str(i) for i in range(1, 11)],\n",
    "    'size': ['Size_' + str(i) for i in range(1, 11)]\n",
    "}\n",
    "\n",
    "df = pd.DataFrame(data)\n",
    "\n",
    "# Save the DataFrame to a CSV file\n",
    "df.to_csv('random_data.csv', index=False)\n"
   ]
  },
  {
   "cell_type": "code",
   "execution_count": 3,
   "metadata": {},
   "outputs": [],
   "source": [
    "import sqlite3"
   ]
  },
  {
   "cell_type": "code",
   "execution_count": 4,
   "metadata": {},
   "outputs": [
    {
     "name": "stdout",
     "output_type": "stream",
     "text": [
      "('Product_1',)\n",
      "('Product_2',)\n",
      "('Product_3',)\n",
      "('Product_4',)\n",
      "('Product_5',)\n",
      "('Product_6',)\n",
      "('Product_7',)\n",
      "('Product_8',)\n",
      "('Product_9',)\n",
      "('Product_10',)\n"
     ]
    }
   ],
   "source": [
    "df.rename(columns={'User ID': 'user_id',\n",
    "                   'Product ID': 'product_id',\n",
    "                   'Product Name' : 'product_name',\n",
    "                   'Brand' : 'brand',\n",
    "                   'Category' : 'category',\n",
    "                   'Price' : 'price',\n",
    "                   'Color' : 'color',\n",
    "                   'Size' : 'size'}, inplace=True)\n",
    "\n",
    "conn = sqlite3.connect('fashion_db.sqlite')\n",
    "c = conn.cursor()\n",
    "\n",
    "c.execute('CREATE TABLE IF NOT EXISTS fashion_products (user_id int, product_id int, product_name text, brand text, category text, price int, rating float, color text, size text)')\n",
    "conn.commit()\n",
    "\n",
    "df.to_sql('fashion_products', conn, if_exists='replace', index = False)\n",
    "\n",
    "c.execute('''\n",
    "SELECT product_name FROM fashion_products LIMIT 100\n",
    "          ''')\n",
    "\n",
    "for row in c.fetchall():\n",
    "    print (row)"
   ]
  },
  {
   "cell_type": "code",
   "execution_count": 5,
   "metadata": {},
   "outputs": [],
   "source": [
    "def read_sql_query(sql, db):\n",
    "    conn = sqlite3.connect(db)\n",
    "    cur = conn.cursor()\n",
    "    cur.execute(sql)\n",
    "    rows = cur.fetchall()\n",
    "    for row in rows:\n",
    "        print(row)\n",
    "    conn.close()"
   ]
  },
  {
   "cell_type": "code",
   "execution_count": 6,
   "metadata": {},
   "outputs": [
    {
     "name": "stdout",
     "output_type": "stream",
     "text": [
      "(1598, 81, 'Product_1', 'Brand_1', 'Category_1', 94.03966367809421, 'Color_1', 'Size_1')\n",
      "(1647, 48, 'Product_2', 'Brand_2', 'Category_2', 98.13465028098854, 'Color_2', 'Size_2')\n",
      "(1330, 62, 'Product_3', 'Brand_3', 'Category_3', 15.643645281189091, 'Color_3', 'Size_3')\n",
      "(1588, 68, 'Product_4', 'Brand_4', 'Category_4', 61.03873617398791, 'Color_4', 'Size_4')\n",
      "(1400, 26, 'Product_5', 'Brand_5', 'Category_5', 90.37919146742455, 'Color_5', 'Size_5')\n",
      "(1918, 79, 'Product_6', 'Brand_6', 'Category_6', 68.63939766686951, 'Color_6', 'Size_6')\n",
      "(1663, 25, 'Product_7', 'Brand_7', 'Category_7', 85.6614586224084, 'Color_7', 'Size_7')\n",
      "(1732, 32, 'Product_8', 'Brand_8', 'Category_8', 63.97521422207548, 'Color_8', 'Size_8')\n",
      "(1321, 13, 'Product_9', 'Brand_9', 'Category_9', 42.32460785222046, 'Color_9', 'Size_9')\n",
      "(1523, 81, 'Product_10', 'Brand_10', 'Category_10', 74.08915149154495, 'Color_10', 'Size_10')\n"
     ]
    }
   ],
   "source": [
    "import sqlite3\n",
    "read_sql_query('SELECT * FROM fashion_products LIMIT 10;',\n",
    "               \"fashion_db.sqlite\")"
   ]
  },
  {
   "cell_type": "code",
   "execution_count": 11,
   "metadata": {},
   "outputs": [
    {
     "data": {
      "text/plain": [
       "True"
      ]
     },
     "execution_count": 11,
     "metadata": {},
     "output_type": "execute_result"
    }
   ],
   "source": [
    "from dotenv import load_dotenv\n",
    "load_dotenv()"
   ]
  },
  {
   "cell_type": "code",
   "execution_count": 8,
   "metadata": {},
   "outputs": [],
   "source": [
    "from langchain import OpenAI, SQLDatabase\n",
    "from langchain_experimental.sql import SQLDatabaseChain"
   ]
  },
  {
   "cell_type": "code",
   "execution_count": 12,
   "metadata": {},
   "outputs": [],
   "source": [
    "input_db = SQLDatabase.from_uri('sqlite:///fashion_db.sqlite')\n",
    "llm_1 = OpenAI(temperature=0)"
   ]
  },
  {
   "cell_type": "code",
   "execution_count": 13,
   "metadata": {},
   "outputs": [
    {
     "name": "stderr",
     "output_type": "stream",
     "text": [
      "d:\\Celebal Technologies\\LearningAndDevelopment\\NLP\\Environments\\SQLChatBot\\lib\\site-packages\\langchain_experimental\\sql\\base.py:75: UserWarning: Directly instantiating an SQLDatabaseChain with an llm is deprecated. Please instantiate with llm_chain argument or using the from_llm class method.\n",
      "  warnings.warn(\n"
     ]
    }
   ],
   "source": [
    "db_agent = SQLDatabaseChain(llm = llm_1,\n",
    "                            database = input_db,\n",
    "                            verbose=True)"
   ]
  },
  {
   "cell_type": "code",
   "execution_count": 14,
   "metadata": {},
   "outputs": [
    {
     "name": "stdout",
     "output_type": "stream",
     "text": [
      "\n",
      "\n",
      "\u001b[1m> Entering new SQLDatabaseChain chain...\u001b[0m\n",
      "What is the total salary of Brand 6\n",
      "SQLQuery:\u001b[32;1m\u001b[1;3mSELECT SUM(price) FROM fashion_products WHERE brand = \"Brand_6\"\u001b[0m\n",
      "SQLResult: \u001b[33;1m\u001b[1;3m[(68.63939766686951,)]\u001b[0m\n",
      "Answer:\u001b[32;1m\u001b[1;3mThe total salary of Brand 6 is 68.63939766686951.\u001b[0m\n",
      "\u001b[1m> Finished chain.\u001b[0m\n"
     ]
    },
    {
     "data": {
      "text/plain": [
       "'The total salary of Brand 6 is 68.63939766686951.'"
      ]
     },
     "execution_count": 14,
     "metadata": {},
     "output_type": "execute_result"
    }
   ],
   "source": [
    "\n",
    "db_agent.run(\"What is the total salary of Brand 6\")"
   ]
  }
 ],
 "metadata": {
  "kernelspec": {
   "display_name": "SQLChatBot",
   "language": "python",
   "name": "python3"
  },
  "language_info": {
   "codemirror_mode": {
    "name": "ipython",
    "version": 3
   },
   "file_extension": ".py",
   "mimetype": "text/x-python",
   "name": "python",
   "nbconvert_exporter": "python",
   "pygments_lexer": "ipython3",
   "version": "3.11.5"
  },
  "orig_nbformat": 4
 },
 "nbformat": 4,
 "nbformat_minor": 2
}
